{
 "cells": [
  {
   "cell_type": "markdown",
   "id": "3daee807",
   "metadata": {},
   "source": [
    "# Sequencing depth v.s. unique molecule captured"
   ]
  },
  {
   "cell_type": "code",
   "execution_count": 1,
   "id": "24088155",
   "metadata": {},
   "outputs": [],
   "source": [
    "import os\n",
    "import pandas as pd\n",
    "%matplotlib inline\n",
    "import matplotlib.pyplot as plt\n",
    "import seaborn as sns\n",
    "\n",
    "plt.style.use('seaborn-white')\n",
    "plt.rcParams['pdf.fonttype'] = 42\n",
    "indir='/home/hsher/scratch/eric_rbfox2_293t_snake/downsample_bam_UMI_counts/'\n",
    "files = os.listdir(indir)\n"
   ]
  },
  {
   "cell_type": "code",
   "execution_count": 2,
   "id": "bcc0f2f5",
   "metadata": {},
   "outputs": [],
   "source": [
    "totaldir='/home/hsher/scratch/eric_rbfox2_293t_snake/downsample_bam_UMI/'\n",
    "totalfiles = [os.path.join(totaldir,f) for f in os.listdir(totaldir) if f.endswith('totalcount')]\n"
   ]
  },
  {
   "cell_type": "code",
   "execution_count": 3,
   "id": "5d132ed4",
   "metadata": {},
   "outputs": [],
   "source": [
    "totalreads = []\n",
    "for f in totalfiles:\n",
    "    id_=os.path.basename(f).replace('.totalcount', '')\n",
    "    with open(f, 'r') as f:\n",
    "        nreads = int(f.readlines()[0].rstrip())\n",
    "        totalreads.append([id_, nreads])"
   ]
  },
  {
   "cell_type": "code",
   "execution_count": 4,
   "id": "29f23f23",
   "metadata": {},
   "outputs": [],
   "source": [
    "totalreads = pd.DataFrame(totalreads, columns = ['lib', 'total_reads'])"
   ]
  },
  {
   "cell_type": "code",
   "execution_count": 5,
   "id": "a3a28067",
   "metadata": {},
   "outputs": [
    {
     "data": {
      "text/plain": [
       "array(['Dan_multiplex1_K562_rep2_RBFOX2', '676_01_RBFOX2-A04',\n",
       "       'Katie_RBFOX2_rep2', 'katieoligo_RBFOX2_rep2',\n",
       "       'Dan_singleplex_RBFOX2_rep1', 'Dan_singleplex_K562_rep1_RBFOX2',\n",
       "       'Dan_multiplex1_HEK293_rep1_RBFOX2',\n",
       "       'Dan_multiplex1_K562_rep4_RBFOX2', 'ENCODE_RBFOX2_rep1',\n",
       "       'Dan_multiplex1_K562_rep3_RBFOX2', '676_02_RBFOX2-G07',\n",
       "       'Dan_singleplex_HEK293_rep1_RBFOX2',\n",
       "       'Dan_multiplex1_K562_rep5_RBFOX2',\n",
       "       'Dan_multiplex1_K562_rep6_RBFOX2',\n",
       "       'Dan_singleplex_HEK293_rep2_RBFOX2', 'Katie_RBFOX2_rep1',\n",
       "       'Dan_singleplex_RBFOX2_rep2', 'katieoligo_RBFOX2_rep1',\n",
       "       '676_01_RBFOX2-F05', 'katieoligo_RBFOX2_rep4',\n",
       "       'Dan_multiplex1_K562_rep1_RBFOX2', 'ENCODE_RBFOX2_rep2',\n",
       "       '676_02_RBFOX2-A03', 'katieoligo_RBFOX2_rep3',\n",
       "       'Dan_multiplex1_HEK293_rep2_RBFOX2',\n",
       "       'Dan_singleplex_K562_rep2_RBFOX2'], dtype=object)"
      ]
     },
     "execution_count": 5,
     "metadata": {},
     "output_type": "execute_result"
    }
   ],
   "source": [
    "totalreads['lib'].unique()"
   ]
  },
  {
   "cell_type": "code",
   "execution_count": 6,
   "id": "0fcb599e",
   "metadata": {},
   "outputs": [],
   "source": [
    "data = []\n",
    "for f in files:\n",
    "    lib = f.split('.')[0]\n",
    "    nread = int(f.split('.')[1])\n",
    "    with open(os.path.join(indir, f), 'r') as f:\n",
    "        usable_read = int(f.readlines()[0].rstrip())\n",
    "    data.append([lib, nread, usable_read])"
   ]
  },
  {
   "cell_type": "code",
   "execution_count": 7,
   "id": "47b54508",
   "metadata": {},
   "outputs": [],
   "source": [
    "\n",
    "df = pd.DataFrame(data, columns = ['lib', 'n_mapped', 'n_usable'])\n",
    "#df = df.loc[(df['n_usable']>0) & (df['n_mapped']<6000000)]"
   ]
  },
  {
   "cell_type": "code",
   "execution_count": 8,
   "id": "2b6367cb",
   "metadata": {},
   "outputs": [
    {
     "data": {
      "text/html": [
       "<div>\n",
       "<style scoped>\n",
       "    .dataframe tbody tr th:only-of-type {\n",
       "        vertical-align: middle;\n",
       "    }\n",
       "\n",
       "    .dataframe tbody tr th {\n",
       "        vertical-align: top;\n",
       "    }\n",
       "\n",
       "    .dataframe thead th {\n",
       "        text-align: right;\n",
       "    }\n",
       "</style>\n",
       "<table border=\"1\" class=\"dataframe\">\n",
       "  <thead>\n",
       "    <tr style=\"text-align: right;\">\n",
       "      <th></th>\n",
       "      <th>lib</th>\n",
       "      <th>n_mapped</th>\n",
       "      <th>n_usable</th>\n",
       "    </tr>\n",
       "  </thead>\n",
       "  <tbody>\n",
       "    <tr>\n",
       "      <th>5</th>\n",
       "      <td>676_01_RBFOX2-F05</td>\n",
       "      <td>100000000</td>\n",
       "      <td>5429697</td>\n",
       "    </tr>\n",
       "    <tr>\n",
       "      <th>12</th>\n",
       "      <td>676_01_RBFOX2-A04</td>\n",
       "      <td>1000000</td>\n",
       "      <td>248531</td>\n",
       "    </tr>\n",
       "    <tr>\n",
       "      <th>17</th>\n",
       "      <td>676_02_RBFOX2-A03</td>\n",
       "      <td>5000000</td>\n",
       "      <td>1170257</td>\n",
       "    </tr>\n",
       "    <tr>\n",
       "      <th>34</th>\n",
       "      <td>676_01_RBFOX2-F05</td>\n",
       "      <td>2000000</td>\n",
       "      <td>495407</td>\n",
       "    </tr>\n",
       "    <tr>\n",
       "      <th>38</th>\n",
       "      <td>676_01_RBFOX2-A04</td>\n",
       "      <td>50000000</td>\n",
       "      <td>1101550</td>\n",
       "    </tr>\n",
       "    <tr>\n",
       "      <th>39</th>\n",
       "      <td>676_02_RBFOX2-G07</td>\n",
       "      <td>2000000</td>\n",
       "      <td>464295</td>\n",
       "    </tr>\n",
       "    <tr>\n",
       "      <th>40</th>\n",
       "      <td>676_01_RBFOX2-A04</td>\n",
       "      <td>100000000</td>\n",
       "      <td>2143104</td>\n",
       "    </tr>\n",
       "    <tr>\n",
       "      <th>48</th>\n",
       "      <td>676_01_RBFOX2-F05</td>\n",
       "      <td>5000000</td>\n",
       "      <td>1217467</td>\n",
       "    </tr>\n",
       "    <tr>\n",
       "      <th>52</th>\n",
       "      <td>676_02_RBFOX2-G07</td>\n",
       "      <td>5000000</td>\n",
       "      <td>1047127</td>\n",
       "    </tr>\n",
       "    <tr>\n",
       "      <th>66</th>\n",
       "      <td>676_02_RBFOX2-G07</td>\n",
       "      <td>50000000</td>\n",
       "      <td>719854</td>\n",
       "    </tr>\n",
       "    <tr>\n",
       "      <th>72</th>\n",
       "      <td>676_01_RBFOX2-F05</td>\n",
       "      <td>10000000</td>\n",
       "      <td>2371491</td>\n",
       "    </tr>\n",
       "    <tr>\n",
       "      <th>75</th>\n",
       "      <td>676_02_RBFOX2-A03</td>\n",
       "      <td>50000000</td>\n",
       "      <td>1257444</td>\n",
       "    </tr>\n",
       "    <tr>\n",
       "      <th>80</th>\n",
       "      <td>676_02_RBFOX2-A03</td>\n",
       "      <td>2000000</td>\n",
       "      <td>486889</td>\n",
       "    </tr>\n",
       "    <tr>\n",
       "      <th>107</th>\n",
       "      <td>676_02_RBFOX2-G07</td>\n",
       "      <td>100000000</td>\n",
       "      <td>1292092</td>\n",
       "    </tr>\n",
       "    <tr>\n",
       "      <th>131</th>\n",
       "      <td>676_01_RBFOX2-A04</td>\n",
       "      <td>10000000</td>\n",
       "      <td>2353889</td>\n",
       "    </tr>\n",
       "    <tr>\n",
       "      <th>135</th>\n",
       "      <td>676_01_RBFOX2-A04</td>\n",
       "      <td>5000000</td>\n",
       "      <td>1213007</td>\n",
       "    </tr>\n",
       "    <tr>\n",
       "      <th>140</th>\n",
       "      <td>676_02_RBFOX2-A03</td>\n",
       "      <td>1000000</td>\n",
       "      <td>246623</td>\n",
       "    </tr>\n",
       "    <tr>\n",
       "      <th>145</th>\n",
       "      <td>676_01_RBFOX2-A04</td>\n",
       "      <td>2000000</td>\n",
       "      <td>493944</td>\n",
       "    </tr>\n",
       "    <tr>\n",
       "      <th>154</th>\n",
       "      <td>676_02_RBFOX2-A03</td>\n",
       "      <td>100000000</td>\n",
       "      <td>2347691</td>\n",
       "    </tr>\n",
       "    <tr>\n",
       "      <th>167</th>\n",
       "      <td>676_01_RBFOX2-F05</td>\n",
       "      <td>50000000</td>\n",
       "      <td>5472956</td>\n",
       "    </tr>\n",
       "    <tr>\n",
       "      <th>175</th>\n",
       "      <td>676_02_RBFOX2-G07</td>\n",
       "      <td>10000000</td>\n",
       "      <td>508658</td>\n",
       "    </tr>\n",
       "    <tr>\n",
       "      <th>176</th>\n",
       "      <td>676_02_RBFOX2-G07</td>\n",
       "      <td>1000000</td>\n",
       "      <td>240435</td>\n",
       "    </tr>\n",
       "    <tr>\n",
       "      <th>178</th>\n",
       "      <td>676_02_RBFOX2-A03</td>\n",
       "      <td>10000000</td>\n",
       "      <td>2196587</td>\n",
       "    </tr>\n",
       "    <tr>\n",
       "      <th>179</th>\n",
       "      <td>676_01_RBFOX2-F05</td>\n",
       "      <td>1000000</td>\n",
       "      <td>249109</td>\n",
       "    </tr>\n",
       "  </tbody>\n",
       "</table>\n",
       "</div>"
      ],
      "text/plain": [
       "                   lib   n_mapped  n_usable\n",
       "5    676_01_RBFOX2-F05  100000000   5429697\n",
       "12   676_01_RBFOX2-A04    1000000    248531\n",
       "17   676_02_RBFOX2-A03    5000000   1170257\n",
       "34   676_01_RBFOX2-F05    2000000    495407\n",
       "38   676_01_RBFOX2-A04   50000000   1101550\n",
       "39   676_02_RBFOX2-G07    2000000    464295\n",
       "40   676_01_RBFOX2-A04  100000000   2143104\n",
       "48   676_01_RBFOX2-F05    5000000   1217467\n",
       "52   676_02_RBFOX2-G07    5000000   1047127\n",
       "66   676_02_RBFOX2-G07   50000000    719854\n",
       "72   676_01_RBFOX2-F05   10000000   2371491\n",
       "75   676_02_RBFOX2-A03   50000000   1257444\n",
       "80   676_02_RBFOX2-A03    2000000    486889\n",
       "107  676_02_RBFOX2-G07  100000000   1292092\n",
       "131  676_01_RBFOX2-A04   10000000   2353889\n",
       "135  676_01_RBFOX2-A04    5000000   1213007\n",
       "140  676_02_RBFOX2-A03    1000000    246623\n",
       "145  676_01_RBFOX2-A04    2000000    493944\n",
       "154  676_02_RBFOX2-A03  100000000   2347691\n",
       "167  676_01_RBFOX2-F05   50000000   5472956\n",
       "175  676_02_RBFOX2-G07   10000000    508658\n",
       "176  676_02_RBFOX2-G07    1000000    240435\n",
       "178  676_02_RBFOX2-A03   10000000   2196587\n",
       "179  676_01_RBFOX2-F05    1000000    249109"
      ]
     },
     "execution_count": 8,
     "metadata": {},
     "output_type": "execute_result"
    }
   ],
   "source": [
    "df.loc[df['lib'].str.contains('676')]"
   ]
  },
  {
   "cell_type": "code",
   "execution_count": 9,
   "id": "c09cb271",
   "metadata": {},
   "outputs": [
    {
     "data": {
      "text/html": [
       "<div>\n",
       "<style scoped>\n",
       "    .dataframe tbody tr th:only-of-type {\n",
       "        vertical-align: middle;\n",
       "    }\n",
       "\n",
       "    .dataframe tbody tr th {\n",
       "        vertical-align: top;\n",
       "    }\n",
       "\n",
       "    .dataframe thead th {\n",
       "        text-align: right;\n",
       "    }\n",
       "</style>\n",
       "<table border=\"1\" class=\"dataframe\">\n",
       "  <thead>\n",
       "    <tr style=\"text-align: right;\">\n",
       "      <th></th>\n",
       "      <th>lib</th>\n",
       "      <th>n_mapped</th>\n",
       "      <th>n_usable</th>\n",
       "    </tr>\n",
       "  </thead>\n",
       "  <tbody>\n",
       "    <tr>\n",
       "      <th>30</th>\n",
       "      <td>Dan_multiplex1_K562_rep4_RBFOX2</td>\n",
       "      <td>500000</td>\n",
       "      <td>358557</td>\n",
       "    </tr>\n",
       "    <tr>\n",
       "      <th>121</th>\n",
       "      <td>Dan_singleplex_RBFOX2_rep2</td>\n",
       "      <td>500000</td>\n",
       "      <td>235193</td>\n",
       "    </tr>\n",
       "    <tr>\n",
       "      <th>83</th>\n",
       "      <td>katieoligo_RBFOX2_rep2</td>\n",
       "      <td>500000</td>\n",
       "      <td>500503</td>\n",
       "    </tr>\n",
       "    <tr>\n",
       "      <th>77</th>\n",
       "      <td>Dan_singleplex_K562_rep1_RBFOX2</td>\n",
       "      <td>500000</td>\n",
       "      <td>500159</td>\n",
       "    </tr>\n",
       "    <tr>\n",
       "      <th>124</th>\n",
       "      <td>katieoligo_RBFOX2_rep4</td>\n",
       "      <td>500000</td>\n",
       "      <td>121643</td>\n",
       "    </tr>\n",
       "    <tr>\n",
       "      <th>...</th>\n",
       "      <td>...</td>\n",
       "      <td>...</td>\n",
       "      <td>...</td>\n",
       "    </tr>\n",
       "    <tr>\n",
       "      <th>40</th>\n",
       "      <td>676_01_RBFOX2-A04</td>\n",
       "      <td>100000000</td>\n",
       "      <td>2143104</td>\n",
       "    </tr>\n",
       "    <tr>\n",
       "      <th>154</th>\n",
       "      <td>676_02_RBFOX2-A03</td>\n",
       "      <td>100000000</td>\n",
       "      <td>2347691</td>\n",
       "    </tr>\n",
       "    <tr>\n",
       "      <th>89</th>\n",
       "      <td>katieoligo_RBFOX2_rep2</td>\n",
       "      <td>100000000</td>\n",
       "      <td>811937</td>\n",
       "    </tr>\n",
       "    <tr>\n",
       "      <th>82</th>\n",
       "      <td>Dan_singleplex_K562_rep2_RBFOX2</td>\n",
       "      <td>100000000</td>\n",
       "      <td>172471</td>\n",
       "    </tr>\n",
       "    <tr>\n",
       "      <th>81</th>\n",
       "      <td>Dan_multiplex1_K562_rep2_RBFOX2</td>\n",
       "      <td>100000000</td>\n",
       "      <td>135493</td>\n",
       "    </tr>\n",
       "  </tbody>\n",
       "</table>\n",
       "<p>192 rows × 3 columns</p>\n",
       "</div>"
      ],
      "text/plain": [
       "                                 lib   n_mapped  n_usable\n",
       "30   Dan_multiplex1_K562_rep4_RBFOX2     500000    358557\n",
       "121       Dan_singleplex_RBFOX2_rep2     500000    235193\n",
       "83            katieoligo_RBFOX2_rep2     500000    500503\n",
       "77   Dan_singleplex_K562_rep1_RBFOX2     500000    500159\n",
       "124           katieoligo_RBFOX2_rep4     500000    121643\n",
       "..                               ...        ...       ...\n",
       "40                 676_01_RBFOX2-A04  100000000   2143104\n",
       "154                676_02_RBFOX2-A03  100000000   2347691\n",
       "89            katieoligo_RBFOX2_rep2  100000000    811937\n",
       "82   Dan_singleplex_K562_rep2_RBFOX2  100000000    172471\n",
       "81   Dan_multiplex1_K562_rep2_RBFOX2  100000000    135493\n",
       "\n",
       "[192 rows x 3 columns]"
      ]
     },
     "execution_count": 9,
     "metadata": {},
     "output_type": "execute_result"
    }
   ],
   "source": [
    "df.sort_values(by = 'n_mapped')"
   ]
  },
  {
   "cell_type": "code",
   "execution_count": 10,
   "id": "b27155a1",
   "metadata": {},
   "outputs": [],
   "source": [
    "df = df.merge(totalreads)\n",
    "df = df.loc[df['total_reads']>df['n_mapped']]"
   ]
  },
  {
   "cell_type": "code",
   "execution_count": 11,
   "id": "0c917704",
   "metadata": {},
   "outputs": [],
   "source": [
    "igf1 = pd.read_excel('IGF2BP1.xlsx', engine='openpyxl')\n",
    "igf1  = igf1[['Unnamed: 0', 'eCLIP Rep1', 'eCLIP Rep2', 'iCLIP Rep1', 'iCLIP Rep2', 'iCLIP Rep3', 'iCLIP Rep4', 'iCLIP Rep5']].iloc[2:]\n",
    "igf1.set_index('Unnamed: 0', inplace = True)"
   ]
  },
  {
   "cell_type": "code",
   "execution_count": 12,
   "id": "349e1868",
   "metadata": {},
   "outputs": [],
   "source": [
    "\n",
    "rbfox = pd.read_excel('RBFOX2.xlsx', engine='openpyxl')\n",
    "rbfox = rbfox[['Unnamed: 0', 'eCLIP Rep1', 'eCLIP Rep2', 'iCLIP']].iloc[2:]\n",
    "rbfox.set_index('Unnamed: 0', inplace = True)"
   ]
  },
  {
   "cell_type": "code",
   "execution_count": 13,
   "id": "a5b00008",
   "metadata": {},
   "outputs": [
    {
     "name": "stderr",
     "output_type": "stream",
     "text": [
      "/home/hsher/miniconda3/envs/Metadensity/lib/python3.7/site-packages/ipykernel_launcher.py:3: SettingWithCopyWarning: \n",
      "A value is trying to be set on a copy of a slice from a DataFrame.\n",
      "Try using .loc[row_indexer,col_indexer] = value instead\n",
      "\n",
      "See the caveats in the documentation: https://pandas.pydata.org/pandas-docs/stable/user_guide/indexing.html#returning-a-view-versus-a-copy\n",
      "  This is separate from the ipykernel package so we can avoid doing imports until\n"
     ]
    }
   ],
   "source": [
    "# merge 2 barcodes\n",
    "encode_k562_rbfox = df.loc[df['lib'].str.contains('676')]\n",
    "encode_k562_rbfox['name'] = encode_k562_rbfox['lib'].str.split('-', expand = True)[0]\n",
    "both_exist = encode_k562_rbfox.groupby(by = ['name', 'n_mapped']).count().reset_index()[['name', 'n_mapped','lib']]\n",
    "both_exist.columns = ['name', 'n_mapped','count']\n",
    "encode_k562_rbfox = encode_k562_rbfox.groupby(by = ['name', 'n_mapped'])['n_usable'].sum().reset_index()\n",
    "both_exist = both_exist.merge(encode_k562_rbfox, left_on = ['name', 'n_mapped'], right_on = ['name', 'n_mapped'])\n",
    "both_exist = both_exist.loc[both_exist['count']==2][['name', 'n_mapped','n_usable']]\n",
    "both_exist.columns = ['lib', 'n_mapped','n_usable']\n"
   ]
  },
  {
   "cell_type": "code",
   "execution_count": 14,
   "id": "3e8102c1",
   "metadata": {},
   "outputs": [],
   "source": [
    "df.drop(index = df.loc[df['lib'].str.contains('676')].index, inplace = True)\n",
    "df = pd.concat([df, both_exist], axis = 0)"
   ]
  },
  {
   "cell_type": "code",
   "execution_count": 15,
   "id": "00c22b6d",
   "metadata": {},
   "outputs": [
    {
     "data": {
      "image/png": "[encoded data removed]",
      "text/plain": [
       "<Figure size 432x288 with 1 Axes>"
      ]
     },
     "metadata": {},
     "output_type": "display_data"
    }
   ],
   "source": [
    "f, ax = plt.subplots()\n",
    "hek_columns = [i for i in df['lib'].unique() if 'katie' in i.lower()]\n",
    "\n",
    "for name, group in df.groupby(by = 'lib'):\n",
    "    if name in hek_columns:\n",
    "        #print(group)\n",
    "        if 'Dan' in name:\n",
    "            if 'singleplex' in name:\n",
    "                c1 = 'gold'\n",
    "            else:\n",
    "                if 'HEK' in name:\n",
    "                    c1 = 'goldenrod'\n",
    "                else:\n",
    "                    c1 = 'orange'\n",
    "        if 'Katie' in name:\n",
    "            c1 = 'royalblue'\n",
    "        elif '676' in name:\n",
    "            c1 = 'hotpink'\n",
    "        group.sort_values(by = 'n_mapped').plot(x = 'n_mapped', y = 'n_usable', marker = 'o', ax = ax, label = name, color = c1)\n",
    "for lib in rbfox.columns:\n",
    "    if 'eCLIP' in lib:\n",
    "        c1 = 'hotpink'\n",
    "    else:\n",
    "        c1 = 'grey'\n",
    "    ax.plot(rbfox.index, rbfox[lib], label = lib + '(RBFOX)', color = c1, marker = 'o')\n",
    "plt.legend(bbox_to_anchor = (1.1, 1.1))\n",
    "plt.ylabel('Usable reads (deduplicated)')\n",
    "plt.xlabel('Uniquely mapped reads')\n",
    "plt.xlim(0, df['n_mapped'].max()*1.1)\n",
    "plt.ylim(0, df['n_usable'].max()*1.3)\n",
    "sns.despine()\n",
    "plt.savefig(os.path.join('/home/hsher/scratch/oligofig/', 'UMI.pdf'))"
   ]
  },
  {
   "cell_type": "code",
   "execution_count": 16,
   "id": "eacf1dcb",
   "metadata": {},
   "outputs": [
    {
     "data": {
      "text/html": [
       "<div>\n",
       "<style scoped>\n",
       "    .dataframe tbody tr th:only-of-type {\n",
       "        vertical-align: middle;\n",
       "    }\n",
       "\n",
       "    .dataframe tbody tr th {\n",
       "        vertical-align: top;\n",
       "    }\n",
       "\n",
       "    .dataframe thead th {\n",
       "        text-align: right;\n",
       "    }\n",
       "</style>\n",
       "<table border=\"1\" class=\"dataframe\">\n",
       "  <thead>\n",
       "    <tr style=\"text-align: right;\">\n",
       "      <th></th>\n",
       "      <th>lib</th>\n",
       "      <th>n_mapped</th>\n",
       "      <th>n_usable</th>\n",
       "      <th>total_reads</th>\n",
       "    </tr>\n",
       "  </thead>\n",
       "  <tbody>\n",
       "    <tr>\n",
       "      <th>0</th>\n",
       "      <td>Dan_singleplex_RBFOX2_rep2</td>\n",
       "      <td>1000000</td>\n",
       "      <td>306929</td>\n",
       "      <td>3611341.0</td>\n",
       "    </tr>\n",
       "    <tr>\n",
       "      <th>2</th>\n",
       "      <td>Dan_singleplex_RBFOX2_rep2</td>\n",
       "      <td>1500000</td>\n",
       "      <td>342038</td>\n",
       "      <td>3611341.0</td>\n",
       "    </tr>\n",
       "    <tr>\n",
       "      <th>4</th>\n",
       "      <td>Dan_singleplex_RBFOX2_rep2</td>\n",
       "      <td>2500000</td>\n",
       "      <td>378456</td>\n",
       "      <td>3611341.0</td>\n",
       "    </tr>\n",
       "    <tr>\n",
       "      <th>5</th>\n",
       "      <td>Dan_singleplex_RBFOX2_rep2</td>\n",
       "      <td>500000</td>\n",
       "      <td>235193</td>\n",
       "      <td>3611341.0</td>\n",
       "    </tr>\n",
       "    <tr>\n",
       "      <th>7</th>\n",
       "      <td>Dan_singleplex_RBFOX2_rep2</td>\n",
       "      <td>2000000</td>\n",
       "      <td>363363</td>\n",
       "      <td>3611341.0</td>\n",
       "    </tr>\n",
       "  </tbody>\n",
       "</table>\n",
       "</div>"
      ],
      "text/plain": [
       "                          lib  n_mapped  n_usable  total_reads\n",
       "0  Dan_singleplex_RBFOX2_rep2   1000000    306929    3611341.0\n",
       "2  Dan_singleplex_RBFOX2_rep2   1500000    342038    3611341.0\n",
       "4  Dan_singleplex_RBFOX2_rep2   2500000    378456    3611341.0\n",
       "5  Dan_singleplex_RBFOX2_rep2    500000    235193    3611341.0\n",
       "7  Dan_singleplex_RBFOX2_rep2   2000000    363363    3611341.0"
      ]
     },
     "execution_count": 16,
     "metadata": {},
     "output_type": "execute_result"
    }
   ],
   "source": [
    "df.loc[df['lib']=='Dan_singleplex_RBFOX2_rep2']"
   ]
  },
  {
   "cell_type": "code",
   "execution_count": 17,
   "id": "42a298d0",
   "metadata": {},
   "outputs": [
    {
     "data": {
      "image/png": "[encoded data removed]",
      "text/plain": [
       "<Figure size 216x216 with 1 Axes>"
      ]
     },
     "metadata": {},
     "output_type": "display_data"
    }
   ],
   "source": [
    "\n",
    "f, ax = plt.subplots(figsize = (3,3))\n",
    "hek_columns = [i for i in df['lib'].unique() if 'Dan' in i and 'HEK' in i and 'single' in i.lower()]\n",
    "\n",
    "for name, group in df.groupby(by = 'lib'):\n",
    "    if name in hek_columns:\n",
    "        #print(group)\n",
    "        if 'Dan' in name:\n",
    "            if 'singleplex' in name:\n",
    "                c1 = '#c31a7f'\n",
    "                if 'rep2' in name:\n",
    "                    c1 = '#c31a7f'\n",
    "            else:\n",
    "                if 'HEK' in name:\n",
    "                    c1 = 'goldenrod'\n",
    "                else:\n",
    "                    c1 = 'orange'\n",
    "        if 'Katie' in name:\n",
    "            c1 = 'royalblue'\n",
    "        elif '676' in name:\n",
    "            c1 = 'hotpink'\n",
    "        group.sort_values(by = 'n_mapped').plot(x = 'n_mapped', y = 'n_usable', marker = 'o', ax = ax, label = name, color = c1)\n",
    "for lib in rbfox.columns:\n",
    "    if 'eCLIP' in lib:\n",
    "        c1 = '#2b3d94'\n",
    "    else:\n",
    "        c1 = 'grey'\n",
    "    ax.plot(rbfox.index, rbfox[lib], label = lib + '(RBFOX)', color = c1, marker = 'o')\n",
    "plt.legend()\n",
    "plt.ylabel('Usable reads (deduplicated)')\n",
    "plt.xlabel('Uniquely mapped reads')\n",
    "plt.xlim(0, df['n_mapped'].max()*1.1)\n",
    "plt.ylim(0, df['n_usable'].max()*1.3)\n",
    "sns.despine()\n",
    "plt.savefig(os.path.join('/home/hsher/scratch/oligofig/', 'UMI_dan_singleplex.pdf'))"
   ]
  },
  {
   "cell_type": "code",
   "execution_count": 18,
   "id": "3acc7145",
   "metadata": {},
   "outputs": [
    {
     "name": "stdout",
     "output_type": "stream",
     "text": [
      "(4, 4) 676_01_RBFOX2\n",
      "(2, 4) 676_02_RBFOX2\n",
      "(5, 4) Dan_singleplex_RBFOX2_rep1\n",
      "(5, 4) Dan_singleplex_RBFOX2_rep2\n"
     ]
    },
    {
     "data": {
      "image/png": "[encoded data removed]",
      "text/plain": [
       "<Figure size 432x288 with 1 Axes>"
      ]
     },
     "metadata": {},
     "output_type": "display_data"
    }
   ],
   "source": [
    "f, ax = plt.subplots()\n",
    "k562_columns = ['Dan_singleplex_RBFOX2_rep2',\n",
    " 'Dan_singleplex_RBFOX2_rep1',\n",
    " '676_01_RBFOX2',\n",
    " '676_02_RBFOX2']\n",
    "\n",
    "for name, group in df.groupby(by = 'lib'):\n",
    "    if name in k562_columns:\n",
    "        print(group.shape, name)\n",
    "        if 'Dan' in name:\n",
    "            if 'singleplex' in name:\n",
    "                c1 = 'gold'\n",
    "            else:\n",
    "                if 'HEK' in name:\n",
    "                    c1 = 'goldenrod'\n",
    "                else:\n",
    "                    c1 = 'orange'\n",
    "        if 'Katie' in name:\n",
    "            c1 = 'royalblue'\n",
    "        elif '676' in name:\n",
    "            c1 = 'hotpink'\n",
    "        group.sort_values(by = 'n_mapped').plot(x = 'n_mapped', y = 'n_usable', marker = 'o', ax = ax, label = name, color = c1)\n",
    "plt.legend(bbox_to_anchor = (1.1, 1.1))\n",
    "plt.ylabel('Usable reads (deduplicated)')\n",
    "plt.xlabel('Uniquely mapped reads')\n",
    "plt.xlim(0, df['n_mapped'].max()*1.1)\n",
    "plt.ylim(0, df['n_usable'].max()*1.3)\n",
    "sns.despine()\n",
    "plt.savefig(os.path.join('/home/hsher/scratch/oligofig/', 'UMI_k562_singleplex.pdf'))"
   ]
  },
  {
   "cell_type": "code",
   "execution_count": 19,
   "id": "64f98bd7",
   "metadata": {},
   "outputs": [
    {
     "name": "stdout",
     "output_type": "stream",
     "text": [
      "(4, 4) 676_01_RBFOX2\n",
      "(2, 4) 676_02_RBFOX2\n",
      "(7, 4) Dan_multiplex1_K562_rep4_RBFOX2\n",
      "(6, 4) Dan_multiplex1_K562_rep6_RBFOX2\n"
     ]
    },
    {
     "data": {
      "image/png": "[encoded data removed]",
      "text/plain": [
       "<Figure size 432x288 with 1 Axes>"
      ]
     },
     "metadata": {},
     "output_type": "display_data"
    }
   ],
   "source": [
    "f, ax = plt.subplots()\n",
    "\n",
    "k562_m_columns = ['Dan_multiplex1_K562_rep4_RBFOX2',\n",
    " 'Dan_multiplex1_K562_rep6_RBFOX2',\n",
    " '676_01_RBFOX2',\n",
    " '676_02_RBFOX2']\n",
    "\n",
    "for name, group in df.groupby(by = 'lib'):\n",
    "    if name in k562_m_columns:\n",
    "        print(group.shape, name)\n",
    "        if 'Dan' in name:\n",
    "            if 'singleplex' in name:\n",
    "                c1 = 'gold'\n",
    "            else:\n",
    "                if 'HEK' in name:\n",
    "                    c1 = 'goldenrod'\n",
    "                else:\n",
    "                    c1 = 'orange'\n",
    "        if 'Katie' in name:\n",
    "            c1 = 'royalblue'\n",
    "        elif '676' in name:\n",
    "            c1 = 'hotpink'\n",
    "        group.sort_values(by = 'n_mapped').plot(x = 'n_mapped', y = 'n_usable', marker = 'o', ax = ax, label = name, color = c1)\n",
    "plt.legend(bbox_to_anchor = (1.1, 1.1))\n",
    "plt.ylabel('Usable reads (deduplicated)')\n",
    "plt.xlabel('Uniquely mapped reads')\n",
    "plt.xlim(0, df['n_mapped'].max()*1.1)\n",
    "plt.ylim(0, df['n_usable'].max()*1.3)\n",
    "sns.despine()\n",
    "plt.savefig(os.path.join('/home/hsher/scratch/oligofig/', 'UMI_k562_multiplex.pdf'))"
   ]
  },
  {
   "cell_type": "code",
   "execution_count": 20,
   "id": "5b406d0b",
   "metadata": {},
   "outputs": [
    {
     "name": "stdout",
     "output_type": "stream",
     "text": [
      "(6, 4) Dan_multiplex1_HEK293_rep1_RBFOX2\n",
      "(7, 4) Dan_multiplex1_HEK293_rep2_RBFOX2\n"
     ]
    },
    {
     "data": {
      "image/png": "[encoded data removed]",
      "text/plain": [
       "<Figure size 432x288 with 1 Axes>"
      ]
     },
     "metadata": {},
     "output_type": "display_data"
    }
   ],
   "source": [
    "f, ax = plt.subplots()\n",
    "hek_columns = ['Dan_multiplex1_HEK293_rep2_RBFOX2',\n",
    " 'Dan_multiplex1_HEK293_rep1_RBFOX2']\n",
    "\n",
    "for name, group in df.groupby(by = 'lib'):\n",
    "    if name in hek_columns:\n",
    "        print(group.shape, name)\n",
    "        if 'Dan' in name:\n",
    "            if 'singleplex' in name:\n",
    "                c1 = 'gold'\n",
    "            else:\n",
    "                if 'HEK' in name:\n",
    "                    c1 = 'goldenrod'\n",
    "                else:\n",
    "                    c1 = 'orange'\n",
    "        if 'Katie' in name:\n",
    "            c1 = 'royalblue'\n",
    "        elif '676' in name:\n",
    "            c1 = 'hotpink'\n",
    "        group.sort_values(by = 'n_mapped').plot(x = 'n_mapped', y = 'n_usable', marker = 'o', ax = ax, label = name, color = c1)\n",
    "\n",
    "for lib in rbfox.columns:\n",
    "    if 'eCLIP' in lib:\n",
    "        c1 = 'hotpink'\n",
    "    else:\n",
    "        c1 = 'grey'\n",
    "    ax.plot(rbfox.index, rbfox[lib], label = lib + '(RBFOX)', color = c1, marker = 'o')\n",
    "plt.legend(bbox_to_anchor = (1.1, 1.1))\n",
    "plt.ylabel('Usable reads (deduplicated)')\n",
    "plt.xlabel('Uniquely mapped reads')\n",
    "plt.xlim(0, df['n_mapped'].max()*1.1)\n",
    "plt.ylim(0, df['n_usable'].max()*1.3)\n",
    "sns.despine()\n",
    "plt.savefig(os.path.join('/home/hsher/scratch/oligofig/', 'UMI_hek_multiplex.pdf'))"
   ]
  },
  {
   "cell_type": "code",
   "execution_count": null,
   "id": "8df5191c",
   "metadata": {},
   "outputs": [],
   "source": []
  }
 ],
 "metadata": {
  "kernelspec": {
   "display_name": "Metadensity",
   "language": "python",
   "name": "metadensity"
  },
  "language_info": {
   "codemirror_mode": {
    "name": "ipython",
    "version": 3
   },
   "file_extension": ".py",
   "mimetype": "text/x-python",
   "name": "python",
   "nbconvert_exporter": "python",
   "pygments_lexer": "ipython3",
   "version": "3.7.12"
  }
 },
 "nbformat": 4,
 "nbformat_minor": 5
}
